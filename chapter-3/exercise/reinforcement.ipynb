{
 "cells": [
  {
   "cell_type": "markdown",
   "id": "74303be1",
   "metadata": {},
   "source": [
    "# Reinforcement Exercises for Chapter 3 - Algorithm Analysis"
   ]
  },
  {
   "cell_type": "code",
   "execution_count": 2,
   "id": "6d0ae69d",
   "metadata": {},
   "outputs": [],
   "source": [
    "# import libraries\n",
    "import matplotlib.pyplot as plt\n",
    "import numpy as np\n",
    "import pandas as pd\n",
    "import math"
   ]
  },
  {
   "cell_type": "markdown",
   "id": "e671bd76",
   "metadata": {},
   "source": [
    "### R-3.1\n",
    "Graph the functions 8n, 4nlogn, 2n^2, n^3, and 2^n using a logarithmic scale for the x- and y-axes that is if the function value f(n) is y, plot this as a point with x-coordinate at logn and y-coordinate at logy."
   ]
  },
  {
   "cell_type": "code",
   "execution_count": 23,
   "id": "4a56bc15",
   "metadata": {},
   "outputs": [
    {
     "data": {
      "image/png": "[encoded data removed]",
      "text/plain": [
       "<Figure size 640x480 with 1 Axes>"
      ]
     },
     "metadata": {},
     "output_type": "display_data"
    }
   ],
   "source": [
    "# define functions\n",
    "\n",
    "# f(n) = 8n\n",
    "def func_f(n: int):\n",
    "    return 8 * n\n",
    "\n",
    "# g(n) = 4nlogn - must use numpy function for log\n",
    "def func_g(n: int):\n",
    "    return 4 * n * np.log2(n)\n",
    "\n",
    "# h(n) = 2n^2\n",
    "def func_h(n: int):\n",
    "    return 2 * n * n\n",
    "\n",
    "# i(n) = n^3\n",
    "def func_i(n: int):\n",
    "    return n * n * n\n",
    "\n",
    "# j(n) = 2^n\n",
    "def func_j(n: int):\n",
    "    return 2**n\n",
    "   \n",
    "\n",
    "# adjust scale of plot\n",
    "plt.xscale('log')\n",
    "plt.yscale('log')\n",
    "plt.xlim(10, 100)\n",
    "\n",
    "# generate n values\n",
    "n = np.linspace(1,100, 100)\n",
    "\n",
    "# evaluate functions\n",
    "f = func_f(n)\n",
    "g = func_g(n)\n",
    "h = func_h(n)\n",
    "i = func_i(n)\n",
    "j = func_j(n)\n",
    "\n",
    "# plot functions\n",
    "plt.plot(n, f, label=\"8n\", color=\"blue\")\n",
    "plt.plot(n, g, label=\"4nlogn\", color=\"red\")\n",
    "plt.plot(n, h, label=\"2n^2\", color=\"green\")\n",
    "plt.plot(n, i, label=\"n^3\", color=\"yellow\")\n",
    "plt.plot(n, j, label=\"2^n\", color=\"pink\")\n",
    "\n",
    "plt.legend()\n",
    "\n",
    "plt.show()\n",
    "\n",
    "\n"
   ]
  },
  {
   "cell_type": "markdown",
   "id": "d351ef28",
   "metadata": {},
   "source": [
    "### R-3.2\n",
    "The number of operations executed by algorithms A and B is 8nlogn and 2n^2, repectively. Determine n0 such that A is better than B for n >= n0."
   ]
  },
  {
   "cell_type": "markdown",
   "id": "2d664458",
   "metadata": {},
   "source": [
    "**Answer:** To solve this problem we must set 8nlogn = to 2n^2 with logn being base 2. This will determine n0. Simplified we will solve when 4(logn)/n = 1"
   ]
  },
  {
   "cell_type": "code",
   "execution_count": 20,
   "id": "2542059d",
   "metadata": {},
   "outputs": [
    {
     "name": "stdout",
     "output_type": "stream",
     "text": [
      "The value of n0 would be: [16, -4*LambertW(-log(2)/4)/log(2)]\n"
     ]
    }
   ],
   "source": [
    "from sympy import symbols, Eq, solve, log\n",
    "\n",
    "n = symbols(\"n\")\n",
    "\n",
    "f_n = 4 * log(n, 2) / n\n",
    "g_n = 1\n",
    "\n",
    "equation = Eq(f_n, g_n)\n",
    "\n",
    "solution = solve(equation, n)\n",
    "\n",
    "print(\"The value of n0 would be:\", solution)"
   ]
  },
  {
   "cell_type": "markdown",
   "id": "5b9e60d1",
   "metadata": {},
   "source": [
    "### R-3.3\n",
    "The number of operations executed by algorithms A and b is 40n^2 and 2n^3, respectively. Determine n0 such that A is better than B for n >= n0"
   ]
  },
  {
   "cell_type": "markdown",
   "id": "52d62b1a",
   "metadata": {},
   "source": [
    "**Answer:** Same as the above, set the two functions equal to each other and solve for n. Simplified we have 20 = n. Thus for n >= 20, A is better than B"
   ]
  },
  {
   "cell_type": "markdown",
   "id": "399d8e29",
   "metadata": {},
   "source": [
    "### R-3.4\n",
    "Give an example of a function that is plotted the same on a log-log scale as it is on a standard scale."
   ]
  },
  {
   "cell_type": "markdown",
   "id": "8f4f75e7",
   "metadata": {},
   "source": [
    "**Answer:** f(n) = n"
   ]
  },
  {
   "cell_type": "markdown",
   "id": "515458ed",
   "metadata": {},
   "source": [
    "### R-3.5\n",
    "Explain why the plot of the function n^c is a stright line with slope c on a log-log scale\n",
    "\n",
    "**Answer:**\n",
    "\n",
    "Given a power law equation y = an^c, taking the log of the equation will result in logy = log(an^c). Since a is a constant and given the log rules, logy = clog(an). Thus, following the linear pattern y = mx+b"
   ]
  },
  {
   "cell_type": "markdown",
   "id": "7f66bd79",
   "metadata": {},
   "source": [
    "### R-3.6\n",
    "What is the sum of all even numbers from 0 to 2n, for any positive integer n?\n",
    "\n",
    "**Answer:**\n",
    "\n",
    "sum = n(n+1)"
   ]
  },
  {
   "cell_type": "markdown",
   "id": "56f973a0",
   "metadata": {},
   "source": [
    "### R-3.7\n",
    "Show that the following two statements are equivalent\n",
    "(a) The running time of algorithm A is always O(f(n))\n",
    "(b) In the worst case, the running time of algorithim A is O(f(n))"
   ]
  },
  {
   "cell_type": "markdown",
   "id": "4d71eb4c",
   "metadata": {},
   "source": [
    "**Answer:** \n",
    "let run_a = the running time of algorithm A. \n",
    "> <p>If run_a -> O(f(n)). Thus, not O(f(n)) -> not run_a.<br>\n",
    "> <br>\n",
    "> Therefore, worst case run_a -> O(f(n)), otherwise there would be a contradiction (where not run_a and worse case run_a both exists and worse case run_a is a subset of run_a).</p>"
   ]
  },
  {
   "cell_type": "markdown",
   "id": "5ba98748",
   "metadata": {},
   "source": [
    "### R-3.8\n",
    "Order the folliwng functions:\n",
    "> 4nlogn + 2n, 3n + 100logn, n^2 + 10n, 2^10, 4n, n^3, 2^logn, nlogn"
   ]
  },
  {
   "cell_type": "markdown",
   "id": "4d39c0b6",
   "metadata": {},
   "source": [
    "**Answer:** from slowest growth rate -> fastest growth rate\n",
    "> 2^10, 4n, 3n + 100logn, nlogn, 4nlogn + 2n, n^2 + 10n, n^3, 2^logn, 2^n"
   ]
  },
  {
   "cell_type": "markdown",
   "id": "d693c324",
   "metadata": {},
   "source": [
    "### R-3.9\n",
    "Show that if d(n) is O(f(n)), then ad(n) is O(f(n)), for any constant a > 0."
   ]
  },
  {
   "cell_type": "markdown",
   "id": "28c88081",
   "metadata": {},
   "source": [
    "**Answer**: Since big O notation is more of an approximation, the focus are on the significant growth factors. Thus, constants are usually ignored. Regardless, we know that if d(n) is O(f(n)), then ad(n), a being some constant, will make it so that ad(n) is a element of ad(n), therefore ad(n) is O(f(n))."
   ]
  },
  {
   "cell_type": "markdown",
   "id": "13879fde",
   "metadata": {},
   "source": [
    "### R-3.10\n",
    "Show that if d(n) is O(f(n)) and e(n) is O(g(n)) then the product d(n)e(n) is O(f(n)g(n)). "
   ]
  },
  {
   "cell_type": "markdown",
   "id": "e6afc875",
   "metadata": {},
   "source": [
    "**Answer:** let f(n) = n and e(n) = n\n",
    "> <p>f(n)*e(n) = n^2 <br>\n",
    "> Thus, O(n*n) = O(n^2) or O(f(n) * g(n)) </p>"
   ]
  },
  {
   "cell_type": "markdown",
   "id": "f98ee3c2",
   "metadata": {},
   "source": [
    "### R-3.11\n",
    "Show that if d(n) is O(f(n)) and e(n) is O(g(n)), then d(n) + e(n) is O(g(n)), then d(n) + e(n) is O(f(n) + g(n))"
   ]
  },
  {
   "cell_type": "markdown",
   "id": "113774d6",
   "metadata": {},
   "source": [
    "**Answer:*** let d(n) = n^2 and e(n) = n\n",
    "> <p> O(d(n)) = n^2 and O(e(n)) = n <br>\n",
    "> d(n) + e(n) = n^2 + n; O(n^2 + n) = n^2 = O(n^2) + O(n) </p>"
   ]
  },
  {
   "cell_type": "markdown",
   "id": "a53a90d9",
   "metadata": {},
   "source": [
    "### R-3.12\n",
    "Show that if d(n) is O(f(n)) and e(n) is O(g(n)), then d(n) - e(n) is not necessarily O(f(n) - g(n))."
   ]
  },
  {
   "cell_type": "markdown",
   "id": "b937c443",
   "metadata": {},
   "source": [
    "**Answer:** let d(n) = 2n and e(n) = n\n",
    "> <p> d(n) - e(n) = n <br>\n",
    "> O(d(n) - e(n)) = O(n) <br>\n",
    "> O(d(n)) = O(n) <br>\n",
    "> O(e(n)) = O(n) <br>\n",
    "> O(d(n)) - O(e(n)) = O(1)<br>\n",
    "> O(d(n)) - O(e(n)) /= O(d(n) - e(n))\n",
    "    "
   ]
  },
  {
   "cell_type": "markdown",
   "id": "ff03af90",
   "metadata": {},
   "source": [
    "### R-3.13\n",
    "Show that if d(n) is O(f(n)) and f(n) is O(g(n)), then d(n) is O(g(n))."
   ]
  },
  {
   "cell_type": "markdown",
   "id": "c9fd2506",
   "metadata": {},
   "source": [
    "**Answer:** let g(n) = n and f(n) = g(n)\n",
    "> <p> if d(n) is O(f(n)) and O(f(n)) = O(g(n)) thenn d(n) is also O(g(n))"
   ]
  },
  {
   "cell_type": "markdown",
   "id": "d8ee4146",
   "metadata": {},
   "source": [
    "### R-3.14\n",
    "Show that O(max{f(n), g(n)}) = O(f(n) + g(n))"
   ]
  },
  {
   "cell_type": "markdown",
   "id": "77fa2f98",
   "metadata": {},
   "source": [
    "**Answer:** let the growth rate of f(n) >>> g(n)\n",
    "> <p> max of f(n), g(n) = f(n) <br>\n",
    "> O(max{f(n), g(n)}) = O(f(n)) <br>\n",
    "> O(f(n)) + O(g(n)) = O(f(n) + g(n)) = O(f(n)) because f(n) >>> g(n) <br>\n",
    "> Thus, O(max{f(n), g(n)}) = O(f(n) + g(n))"
   ]
  },
  {
   "cell_type": "markdown",
   "id": "50274750",
   "metadata": {},
   "source": [
    "### R-3.15\n",
    "Show that f(n) is O(g(n)) if and only if g(n) is Big-Omega of f(n)"
   ]
  },
  {
   "cell_type": "markdown",
   "id": "fcc66713",
   "metadata": {},
   "source": [
    "**Answer:** firstly we must know that Big-Omega is defined as being asymptotically less than or equal to said function. Therefore if f(n) is O(g(n)), we know that the estimated time complexity is f(n) = g(n), thus satisfying one of the definitions of Big-Omega"
   ]
  },
  {
   "cell_type": "markdown",
   "id": "019c13e9",
   "metadata": {},
   "source": [
    "### R-3.16\n",
    "Show that if p(n) is a polynomial in n, then log p(n) is O(logn)"
   ]
  },
  {
   "cell_type": "markdown",
   "id": "706aa559",
   "metadata": {},
   "source": [
    "**Answer:** since we know p(n) is equivalent to n, then log p(n) = log n. Therefore log p(n) is O(log(n)) since logn is O(log(n))"
   ]
  },
  {
   "cell_type": "markdown",
   "id": "eef0a845",
   "metadata": {},
   "source": [
    "### R-3.17\n",
    "Show that (n+1)^5 is O(n^5)"
   ]
  },
  {
   "cell_type": "markdown",
   "id": "178ce04e",
   "metadata": {},
   "source": [
    "**Answer:** by defintion of Big-O, the highest polynomial would be cn^5, thus being O(n^5) time complexity"
   ]
  },
  {
   "cell_type": "markdown",
   "id": "dd7a2953",
   "metadata": {},
   "source": [
    "### R-3.18\n",
    "Show that 2^(n+1) is O(2^n)\n",
    "\n",
    "\n",
    "**Answer:** the addition of the constant in the exponent is negligible."
   ]
  },
  {
   "cell_type": "markdown",
   "id": "67c2b383",
   "metadata": {},
   "source": [
    "### R-3.19\n",
    "Show that n is O(nlogn)\n",
    "\n",
    "**Answer:** we know that big O is defiined as the worst case, so even though it is more accurate to say n is O(n), it is still true to say n is O(nlogn) because n << nlogn"
   ]
  },
  {
   "cell_type": "markdown",
   "id": "d0e2a2d4",
   "metadata": {},
   "source": [
    "### R-3.20 (R.3.21 - same concept)\n",
    "Show that n^2 is Big-Omega(nlogn)\n",
    "\n",
    "**Answer:** By definition of Big-Omega, f(x) = Ω(g(x)) || g(x) is asymptotically same or lower as (fx) || f(x) >= O(g(x))"
   ]
  },
  {
   "cell_type": "markdown",
   "id": "8042e95c",
   "metadata": {},
   "source": [
    "### R-3.22 \n",
    "Show that \\[f(n)\\] is O(f(n)), if f(n) is a positive nondecreasing function that is always greater than 1.\n",
    "\n",
    "**Answer:** definition of big-O, given the fact that f(n) is a positive nondecreasing function."
   ]
  },
  {
   "cell_type": "markdown",
   "id": "74c7045b",
   "metadata": {},
   "source": [
    "### R-3.23-3.27\n",
    "Give a big-Oh characterization in terms of n of the running time of the code fragment on 3.10\n",
    "\n",
    "Example1 (3.23): O(n)\n",
    "\n",
    "Example2 (3.24): O(log(n))\n",
    "\n",
    "Example3 (3.25): O(n^2)\n",
    "\n",
    "Example4 (3.26): O(n)\n",
    "\n",
    "Example5 (3.27): O(n^3)\n"
   ]
  },
  {
   "cell_type": "markdown",
   "id": "ebdd825a",
   "metadata": {},
   "source": [
    "### R-3.28\n",
    "Asks to calculate the largest size of n within a given time for each f(n). \n",
    "\n",
    "**Answer:** Simply use the first value of f(n) and extrapolate"
   ]
  },
  {
   "cell_type": "markdown",
   "id": "c0fcf6ee",
   "metadata": {},
   "source": [
    "### R-3.29\n",
    "Alorithm A executes an O(logn)-time computation for each entry of an n-element sequence. What is its worst-case running time?\n",
    "\n",
    "**Answer:** O(nlogn) because it is iterating through n and each element in n takes O(logn)"
   ]
  },
  {
   "cell_type": "markdown",
   "id": "8cdd2f6c",
   "metadata": {},
   "source": [
    "### R-3.30\n",
    "Given an n-element sequence S, Algorithm B chooses logn elements in S at random and executes an O(n)-time calculation for each. What is the worst-case running time for Algo B?\n",
    "\n",
    "**Answer:** O(nlogn)"
   ]
  },
  {
   "cell_type": "markdown",
   "id": "3134d692",
   "metadata": {},
   "source": [
    "### R-3.31\n",
    "Given an n-element sequence S of integers, Algo C executes an O(n)-time computation for each even number in S, and an O(logn)-time computation for each odd number in S. What are the best-case and worst-case running times of Algo C?\n",
    "\n",
    "**Answer:** For best case, there are no odd numbers and thus O(n), but if there are all odd numbers then O(nlogn) would be the worst case"
   ]
  },
  {
   "cell_type": "code",
   "execution_count": null,
   "id": "c3579894",
   "metadata": {},
   "outputs": [],
   "source": []
  }
 ],
 "metadata": {
  "kernelspec": {
   "display_name": "Python 3 (ipykernel)",
   "language": "python",
   "name": "python3"
  },
  "language_info": {
   "codemirror_mode": {
    "name": "ipython",
    "version": 3
   },
   "file_extension": ".py",
   "mimetype": "text/x-python",
   "name": "python",
   "nbconvert_exporter": "python",
   "pygments_lexer": "ipython3",
   "version": "3.11.5"
  }
 },
 "nbformat": 4,
 "nbformat_minor": 5
}
